{
 "cells": [
  {
   "cell_type": "markdown",
   "metadata": {},
   "source": [
    "# Documentation for Breanna"
   ]
  },
  {
   "cell_type": "markdown",
   "metadata": {},
   "source": [
    "Breanna is the backend of our prototype. To make the backend into a package requires a name. I don't want to call it backend, yet I can't come up with a good name, so I ended up using a random name generator and it happened to give me 'Breanna'."
   ]
  },
  {
   "cell_type": "code",
   "execution_count": 1,
   "metadata": {},
   "outputs": [
    {
     "name": "stdout",
     "output_type": "stream",
     "text": [
      "Obtaining file:///Users/chenfeiyu/Desktop/repos/2019-AC297rs-MSL/deliverable\n",
      "Installing collected packages: breanna\n",
      "  Found existing installation: breanna 0.9\n",
      "    Uninstalling breanna-0.9:\n",
      "      Successfully uninstalled breanna-0.9\n",
      "  Running setup.py develop for breanna\n",
      "Successfully installed breanna\n"
     ]
    }
   ],
   "source": [
    "!pip install -e ."
   ]
  },
  {
   "cell_type": "markdown",
   "metadata": {},
   "source": [
    "## 1.The need to manage campaign data"
   ]
  },
  {
   "cell_type": "markdown",
   "metadata": {},
   "source": [
    "The goal of our project is to build a predictive tool to predict the effectiveness of banner design. One thing we noticed from our literature review is that, to learn a model of how the visual aspect influence the performance of a web banner, we typically need a large number of banner designs. The banner design should be diverse enough so that patterns will emerge. However, if we look at the banners used for a single campaign, we can see that usually they are visually very similar to each other. So to learn meaningful pattern of how the visual feature influence the banner's effectiveness, we need to collect data of various campaigns. Another thing we notice during our project is that the data for a single campaign is scattered in many place: the design of banners are kept as images and JavaScript, the user interaction data is kept as several different kinds of log files. Actually, in this project, we spent most of our time cleaning the data and just holding everything together rather than doing modeling. Therefore, we think that being able to organize data in a way that is easily accessable for analysis is crutial to make the analysis of banner designs possible. Ideally, we want this to be done automatically. This is a part of the motivation for Breanna."
   ]
  },
  {
   "cell_type": "code",
   "execution_count": 2,
   "metadata": {},
   "outputs": [
    {
     "name": "stderr",
     "output_type": "stream",
     "text": [
      "/anaconda3/envs/msl/lib/python3.6/site-packages/dask/config.py:168: YAMLLoadWarning: calling yaml.load() without Loader=... is deprecated, as the default Loader is unsafe. Please read https://msg.pyyaml.org/load for full details.\n",
      "  data = yaml.load(f.read()) or {}\n",
      "Using TensorFlow backend.\n"
     ]
    }
   ],
   "source": [
    "from breanna import database_access"
   ]
  },
  {
   "cell_type": "markdown",
   "metadata": {},
   "source": [
    "Suppose we don't have a database for the campaign data yet, and we want to create one and import the data of a certain campaign into the database."
   ]
  },
  {
   "cell_type": "code",
   "execution_count": 3,
   "metadata": {},
   "outputs": [],
   "source": [
    "msl_db = database_access.get_connection()\n",
    "database_access.initialize_database(conn=msl_db)"
   ]
  },
  {
   "cell_type": "markdown",
   "metadata": {},
   "source": [
    "`get_connection` returns a connection to a database located in `breanna_data/database`. `initialize_database` will create a database with two tables monthly_campaigns and exposures with the following schema. The table monthly_campaign records the ontology, name, month, year of a campaign and the table exposures records all the banner display events associated with this campaign.\n",
    "```\n",
    "create table monthly_campaigns\n",
    "(\n",
    "id                   integer primary key autoincrement,\n",
    "ontology             text not null,\n",
    "name                 text not null,\n",
    "month                integer not null,\n",
    "year                 integer not null,\n",
    "banner_root          text not null\n",
    ")\n",
    "```\n",
    "```\n",
    "create table exposures\n",
    "(\n",
    "id                   integer primary key autoincrement,\n",
    "ad_name              text not null,\n",
    "publisher            text not null,\n",
    "os                   text not null,\n",
    "device               text not null,\n",
    "event_date           text not null,\n",
    "event_hour           integer not null,\n",
    "click                integer not null,\n",
    "monthly_campaign_id  integer,\n",
    "foreign key(monthly_campaign_id) references monthly_campaign(id)\n",
    ")\n",
    "```"
   ]
  },
  {
   "cell_type": "markdown",
   "metadata": {},
   "source": [
    "Then we will want to import the data associated with a campaign into this database. `load_new_campaign` takes the following arguments:\n",
    "\n",
    "`ontology`: the ontology of this campaign, as a string, e.g. 'automobile' \n",
    "\n",
    "`name`: the name of this campaign, as a string, e.g. 'alfaromeo'\n",
    "\n",
    "`month`: the month when this campaign is carried out, as a string, e.g. '3'\n",
    "\n",
    "`year`: the year when this campaign is carried out, as a string, e.g. '2019'\n",
    "\n",
    "`banner_root`: the path to a folder that contains all the banner designs, as a string, e.g. 'alfaromeo_march/alfaromeo_march_banners'. Each sub-folder should be a banner. We expect each sub-folder to be named by the name of the banner design and contain the image files related to this banner. \n",
    "\n",
    "`standarddisplay_root`: the path to a folder that contains all the standard display feed log, as a string, e.g. 'alfaromeo_march/alfaromeo_march_standarddisplay'. Standard display feed log are logs that contains user reaction to display events. In the dataset we received, they are typically named like 'GP_cld_standard_display_feed_01_2019031305.txt'.\n",
    "\n",
    "`matchfile_root`: the path to a folder that contains all the match files, as a string, e.g. 'alfaromeo_march/alfaromeo_march_matchfile'. Match files are logs that serve as dictionaries to give semantic meaning to the encodings in standard display feed logs. In the dataset we received, they are typically named like 'CLD_Match_AccountsMatchfile_feed_2019022800.txt'.\n",
    "                      \n",
    "`conn`: the connection to the database, the connection returned by `get_connection`.\n",
    "\n",
    "`load_new_campaign` will first copy all the banners to a certain place that Breanna knows. This path will then be linked with this campaign and be inserted into the monthly_campaign table along with the campaign information. The function will then parse and creates user-banner interaction records and insert them into the exposures table."
   ]
  },
  {
   "cell_type": "code",
   "execution_count": 4,
   "metadata": {},
   "outputs": [
    {
     "name": "stdout",
     "output_type": "stream",
     "text": [
      "Importing banners...\n",
      "Banners imported...\n",
      "Processing standard display feeds...\n",
      "   0/ 186\n",
      "   1/ 186\n",
      "   2/ 186\n"
     ]
    },
    {
     "name": "stderr",
     "output_type": "stream",
     "text": [
      "/anaconda3/envs/msl/lib/python3.6/site-packages/ipykernel_launcher.py:5: DtypeWarning: Columns (27) have mixed types. Specify dtype option on import or set low_memory=False.\n",
      "  \"\"\"\n"
     ]
    },
    {
     "name": "stdout",
     "output_type": "stream",
     "text": [
      "   3/ 186\n",
      "   4/ 186\n",
      "   5/ 186\n",
      "   6/ 186\n",
      "   7/ 186\n",
      "   8/ 186\n",
      "   9/ 186\n",
      "  10/ 186\n",
      "  11/ 186\n",
      "  12/ 186\n",
      "  13/ 186\n",
      "  14/ 186\n",
      "  15/ 186\n",
      "  16/ 186\n",
      "  17/ 186\n",
      "  18/ 186\n",
      "  19/ 186\n",
      "  20/ 186\n",
      "  21/ 186\n",
      "  22/ 186\n",
      "  23/ 186\n",
      "  24/ 186\n",
      "  25/ 186\n",
      "  26/ 186\n",
      "  27/ 186\n",
      "  28/ 186\n",
      "  29/ 186\n",
      "  30/ 186\n",
      "  31/ 186\n",
      "  32/ 186\n",
      "  33/ 186\n",
      "  34/ 186\n",
      "  35/ 186\n",
      "  36/ 186\n",
      "  37/ 186\n",
      "  38/ 186\n",
      "  39/ 186\n",
      "  40/ 186\n",
      "  41/ 186\n",
      "  42/ 186\n",
      "  43/ 186\n",
      "  44/ 186\n",
      "  45/ 186\n",
      "  46/ 186\n",
      "  47/ 186\n",
      "  48/ 186\n",
      "  49/ 186\n",
      "  50/ 186\n",
      "  51/ 186\n",
      "  52/ 186\n",
      "  53/ 186\n",
      "  54/ 186\n",
      "  55/ 186\n",
      "  56/ 186\n",
      "  57/ 186\n",
      "  58/ 186\n",
      "  59/ 186\n",
      "  60/ 186\n",
      "  61/ 186\n",
      "  62/ 186\n",
      "  63/ 186\n",
      "  64/ 186\n",
      "  65/ 186\n",
      "  66/ 186\n",
      "  67/ 186\n",
      "  68/ 186\n",
      "  69/ 186\n",
      "  70/ 186\n",
      "  71/ 186\n",
      "  72/ 186\n",
      "  73/ 186\n",
      "  74/ 186\n",
      "  75/ 186\n",
      "  76/ 186\n",
      "  77/ 186\n",
      "  78/ 186\n",
      "  79/ 186\n",
      "  80/ 186\n",
      "  81/ 186\n",
      "  82/ 186\n",
      "  83/ 186\n"
     ]
    },
    {
     "name": "stderr",
     "output_type": "stream",
     "text": [
      "/anaconda3/envs/msl/lib/python3.6/site-packages/ipykernel_launcher.py:5: DtypeWarning: Columns (27,30) have mixed types. Specify dtype option on import or set low_memory=False.\n",
      "  \"\"\"\n"
     ]
    },
    {
     "name": "stdout",
     "output_type": "stream",
     "text": [
      "  84/ 186\n",
      "  85/ 186\n",
      "  86/ 186\n",
      "  87/ 186\n",
      "  88/ 186\n",
      "  89/ 186\n",
      "  90/ 186\n",
      "  91/ 186\n",
      "  92/ 186\n",
      "  93/ 186\n",
      "  94/ 186\n",
      "  95/ 186\n",
      "  96/ 186\n",
      "  97/ 186\n",
      "  98/ 186\n",
      "  99/ 186\n",
      " 100/ 186\n",
      " 101/ 186\n",
      " 102/ 186\n",
      " 103/ 186\n",
      " 104/ 186\n",
      " 105/ 186\n",
      " 106/ 186\n",
      " 107/ 186\n",
      " 108/ 186\n",
      " 109/ 186\n",
      " 110/ 186\n",
      " 111/ 186\n",
      " 112/ 186\n",
      " 113/ 186\n",
      " 114/ 186\n",
      " 115/ 186\n",
      " 116/ 186\n",
      " 117/ 186\n",
      " 118/ 186\n",
      " 119/ 186\n",
      " 120/ 186\n",
      " 121/ 186\n",
      " 122/ 186\n",
      " 123/ 186\n",
      " 124/ 186\n",
      " 125/ 186\n",
      " 126/ 186\n",
      " 127/ 186\n",
      " 128/ 186\n",
      " 129/ 186\n",
      " 130/ 186\n",
      " 131/ 186\n",
      " 132/ 186\n",
      " 133/ 186\n",
      " 134/ 186\n",
      " 135/ 186\n",
      " 136/ 186\n",
      " 137/ 186\n",
      " 138/ 186\n",
      " 139/ 186\n",
      " 140/ 186\n",
      " 141/ 186\n",
      " 142/ 186\n",
      " 143/ 186\n",
      " 144/ 186\n",
      " 145/ 186\n",
      " 146/ 186\n",
      " 147/ 186\n",
      " 148/ 186\n",
      " 149/ 186\n",
      " 150/ 186\n",
      " 151/ 186\n",
      " 152/ 186\n",
      " 153/ 186\n",
      " 154/ 186\n",
      " 155/ 186\n",
      " 156/ 186\n",
      " 157/ 186\n",
      " 158/ 186\n",
      " 159/ 186\n",
      " 160/ 186\n",
      " 161/ 186\n",
      " 162/ 186\n",
      " 163/ 186\n",
      " 164/ 186\n",
      " 165/ 186\n",
      " 166/ 186\n",
      " 167/ 186\n",
      " 168/ 186\n",
      " 169/ 186\n",
      " 170/ 186\n",
      " 171/ 186\n",
      " 172/ 186\n",
      " 173/ 186\n",
      " 174/ 186\n",
      " 175/ 186\n",
      " 176/ 186\n",
      " 177/ 186\n",
      " 178/ 186\n",
      " 179/ 186\n",
      " 180/ 186\n",
      " 181/ 186\n",
      " 182/ 186\n",
      " 183/ 186\n",
      " 184/ 186\n",
      " 185/ 186\n"
     ]
    }
   ],
   "source": [
    "database_access.load_new_campaign('automobile', 'alfaromeo', '3', '2019', \n",
    "                                  banner_root=         'alfaromeo_march/alfaromeo_march_banners',\n",
    "                                  standarddisplay_root='alfaromeo_march/alfaromeo_march_standarddisplay',\n",
    "                                  matchfile_root=      'alfaromeo_march/alfaromeo_march_matchfile',\n",
    "                                  conn=msl_db)"
   ]
  },
  {
   "cell_type": "markdown",
   "metadata": {},
   "source": [
    "## 2.The need for easy experiments with model"
   ]
  },
  {
   "cell_type": "markdown",
   "metadata": {},
   "source": [
    "In our project, we focus on predicting the click-through rate of banners. To go from raw data to the model, we need two kinds of preprocessing. (1) we need to extract the visual features of the banners. This can be done with the `feature_extraction` module. (2) we need to calculate the click through rate. The click-through rate is conditioned on certain scenarios, e.g. the publisher of the banner, the hour of the day the banner is shown to the user, the kind of digial device the user is using. We want to incorporate these factors into our modeling so that we are wrongly not attribute the effect of these factors to visual features. "
   ]
  },
  {
   "cell_type": "markdown",
   "metadata": {},
   "source": [
    "### 2.1. extracting visual features"
   ]
  },
  {
   "cell_type": "markdown",
   "metadata": {},
   "source": [
    "We'll first see how to use Breanna to extract visual features."
   ]
  },
  {
   "cell_type": "code",
   "execution_count": 5,
   "metadata": {},
   "outputs": [],
   "source": [
    "from breanna import feature_extraction"
   ]
  },
  {
   "cell_type": "markdown",
   "metadata": {},
   "source": [
    "We have two kinds of extractors in this module. `VisualFeatureExtractor` and `AutoEncoderExtractor`. \n",
    "\n",
    "`VisualFeatureExtractor` should be initiated with the following arguments:\n",
    "\n",
    "`features`: a list of the visual features (as 3-letter codes) we want to extract from the banners, e.g. \\['GLC', 'DNB', 'GLS', 'DNC', 'DNE'\\]. Now Breanna supports 9 visual features:\n",
    "\n",
    "'GLC': gray level contrast,\n",
    "\n",
    "'DNB': number of dominant bins,\n",
    "\n",
    "'GLS': gray level standard deviation,\n",
    "\n",
    "'DNC': number of dominant colors,\n",
    "\n",
    "'DNE': the extent of dominantion for the dominant colors\n",
    "\n",
    "'NCC': number of connected components\n",
    "\n",
    "'SLC': size of largest connected component\n",
    "\n",
    "'NCS': number of connected components saliency map\n",
    "\n",
    "'NCH': number of characters\n",
    "\n",
    "For example we have the following image, and we want to extract the above 5 features from the image."
   ]
  },
  {
   "cell_type": "code",
   "execution_count": 6,
   "metadata": {},
   "outputs": [
    {
     "data": {
      "image/png": "[encoded data removed]",
      "text/plain": [
       "<Figure size 432x288 with 1 Axes>"
      ]
     },
     "metadata": {
      "needs_background": "light"
     },
     "output_type": "display_data"
    }
   ],
   "source": [
    "import matplotlib.pyplot as plt\n",
    "%matplotlib inline\n",
    "from skimage import io\n",
    "test_image_path = 'breanna_test/test_data/frame1.jpg'            \n",
    "test_image = io.imread(test_image_path)\n",
    "plt.imshow(test_image);"
   ]
  },
  {
   "cell_type": "markdown",
   "metadata": {},
   "source": [
    "Pass the image to the `extract` method will give us the 8 visual features of this image."
   ]
  },
  {
   "cell_type": "code",
   "execution_count": 7,
   "metadata": {},
   "outputs": [
    {
     "data": {
      "text/plain": [
       "array([1.00000000e+00, 1.05000000e+02, 3.86231077e-01, 3.60000000e+01,\n",
       "       2.82253333e-01, 9.40000000e+01, 6.27850000e+04, 1.00000000e+00])"
      ]
     },
     "execution_count": 7,
     "metadata": {},
     "output_type": "execute_result"
    }
   ],
   "source": [
    "extractor  = feature_extraction.VisualFeatureExtractor(['GLC', 'DNB', 'GLS', 'DNC', 'DNE', 'NCC', 'SLC', 'NCS'])\n",
    "extractor.extract(test_image)"
   ]
  },
  {
   "cell_type": "markdown",
   "metadata": {},
   "source": [
    "Another kind of image representation is to use an autoencoder. `AutoEncoderExtractor` should be initiated with the following arguments:\n",
    "\n",
    "`encoder_path`: path to the encoder (a .h5 file containing the Keras model), a model to reduce the dimension of the image, e.g. 'breanna_data/models/encoder/encoder64.h5'\n",
    "\n",
    "`input_size`: the expected input shape of the encoder, as a tuple, e.g. (64, 64). The extractor will first resize the input image to this size\n",
    "\n",
    "`output_size`: the expected output dimension of the encoder, as an int, e.g. 64.\n",
    "\n",
    "Pass the image to the `extract` method will give us the 64-dimensional representation of this image."
   ]
  },
  {
   "cell_type": "code",
   "execution_count": 8,
   "metadata": {},
   "outputs": [
    {
     "name": "stderr",
     "output_type": "stream",
     "text": [
      "/anaconda3/envs/msl/lib/python3.6/site-packages/keras/engine/saving.py:292: UserWarning: No training configuration found in save file: the model was *not* compiled. Compile it manually.\n",
      "  warnings.warn('No training configuration found in save file: '\n"
     ]
    },
    {
     "data": {
      "text/plain": [
       "array([-4.8220509e-01, -1.3618537e+00,  2.8117578e+00,  2.2158074e+00,\n",
       "        3.3610537e+00,  9.1309026e-02, -2.4812548e+00,  1.7148813e+00,\n",
       "       -2.4997413e-01,  9.9519577e+00, -4.9628291e+00,  3.2265320e+00,\n",
       "        3.7112911e+00, -1.8414492e+01, -1.6830486e+00,  1.5187914e+00,\n",
       "       -1.3871326e+00, -8.0507249e-02, -3.9825854e+00,  1.0530461e+00,\n",
       "       -9.9624481e+00,  2.1798223e-01, -1.1264565e+00,  1.3245459e+00,\n",
       "        1.7716518e-01,  2.4479572e+01, -2.9090006e+00, -2.1639231e-01,\n",
       "       -1.6848376e+00, -3.1238431e-01,  1.3825524e+00,  5.8902836e+00,\n",
       "       -9.6927423e+00, -1.0110710e+00,  7.9526109e-01,  4.1502352e+00,\n",
       "       -2.9726839e+00,  9.3219143e-01, -5.2130547e+00,  3.5589457e-02,\n",
       "        4.7308602e+00,  3.9965534e+00, -4.0788536e+00, -7.1231300e-01,\n",
       "        6.8656451e-01,  1.4874462e+00, -1.0942680e+01,  3.9824927e+00,\n",
       "        1.4316975e+00,  2.9683981e+00,  5.5367885e+00,  4.3552537e+00,\n",
       "        7.3027992e-01,  4.1261482e+00,  9.7543709e-03,  1.1019845e-01,\n",
       "        1.6402783e+00,  3.0247862e+00, -4.5162317e-01,  4.7461538e+00,\n",
       "       -4.7470970e+00, -5.5225029e+00,  4.7571840e+00, -2.1849176e+01],\n",
       "      dtype=float32)"
      ]
     },
     "execution_count": 8,
     "metadata": {},
     "output_type": "execute_result"
    }
   ],
   "source": [
    "extractor_ae = feature_extraction.AutoEncoderExtractor('breanna_data/models/encoder/encoder64.h5', (64, 64), 64) \n",
    "extractor_ae.extract(test_image)"
   ]
  },
  {
   "cell_type": "markdown",
   "metadata": {},
   "source": [
    "Besides extractors, we also have aggregators in `feature_extraction`. This is for averaging the aggregating representations for several different images belonging to the same banner. `FeatureAggregator` should be initiated with the following argument:\n",
    "\n",
    "`extractor`: either a `VisualFeatureExtractor` or a `AutoEncoderExtractor`, e.g. here we use the `VisualFeatureExtractor` we just created. \n",
    "\n",
    "`method`: how to aggregate the representations, as one of the following strings: 'mean', 'median', 'max', 'min'. e.g. 'mean'"
   ]
  },
  {
   "cell_type": "code",
   "execution_count": 9,
   "metadata": {},
   "outputs": [],
   "source": [
    "aggregator = feature_extraction.FeatureAggregator(extractor, method='mean')"
   ]
  },
  {
   "cell_type": "markdown",
   "metadata": {},
   "source": [
    "Pass the path of the banner folder to the `aggregate` method will give us the averaged 5 visual features of this banner."
   ]
  },
  {
   "cell_type": "code",
   "execution_count": 10,
   "metadata": {},
   "outputs": [
    {
     "data": {
      "text/plain": [
       "array([1.00000000e+00, 1.05000000e+02, 3.86231077e-01, 3.60000000e+01,\n",
       "       2.82253333e-01, 9.40000000e+01, 6.27850000e+04, 1.00000000e+00])"
      ]
     },
     "execution_count": 10,
     "metadata": {},
     "output_type": "execute_result"
    }
   ],
   "source": [
    "aggregator.aggregate('breanna_test/test_data/banner1')"
   ]
  },
  {
   "cell_type": "markdown",
   "metadata": {},
   "source": [
    "### 2.2. summarizing click through rate and match with visual features"
   ]
  },
  {
   "cell_type": "markdown",
   "metadata": {},
   "source": [
    "In the end, we want to create a training set like this where each row correspond to a banner displayed at certain scenarios (in this example, scenario = hour of the day + publisher)\n",
    "\n",
    "| visual feature # 1| visual feature # 2 | ... | hour of the day | publisher            | CTR   |\n",
    "| ----------------- | ------------------ | --- | --------------- | -------------------- | ----- |\n",
    "| 0.3               | 13                 | ... | 8               | Criteo               | 0.003 |\n",
    "| 0.6               | 34                 | ... | 16              | Amazon               | 0.002 |\n",
    "| 0.2               | 53                 | ... | 21              | Double Click Manager | 0.001 |\n",
    "\n",
    "To get a dataframe like this, we need to do 3 things:\n",
    "\n",
    "(1) extract and aggregate visual features from images, this can be done by using `FeatureExtractor`.\n",
    "\n",
    "(2) summarize the click through rate (CTR) over certain CTR-aggregators (the criterion by which we group the display events). For examples, here the CTR-aggregators are  publisher and hour of the day. Note that CTR is usually a very small number and requires a large number impressions to get a accurate estimation, so we also need to specify a threshold for minimum number of impressions of certain scenario. (e.g. say we set min_impressions=5000 and we found that some banner is only shown 2666 times by Criteo at 8am, then we won't include the CTR of this banner by Criteo at 8am).\n",
    "\n",
    "(3) match the visual features with the scenatios and CTRs. We need to do this because the same banner has differen name in the banner design and in the log files. Therefore, we need to specify in advance how these two name should match. (e.g. we have a banner named ALFAROMEO_STELVIOQ4_IT_IT_CONTINUITY_RED_RICHIEDI_PREVENTIVO_970x90_2019-01-14__56975283_META-GEN2019, yet there is not a same ad name in the log files, however, we can guess that if one banner name and one ad name implies that they are deisgned on the same day and displaying the same model with same color, then they probably refer to the same banner.)\n",
    "\n",
    "We have a function for doing the above 3 things. `ctr_model_management.create_training_set` takes the following arguments:\n",
    "\n",
    "------ arguments for step (2) ------\n",
    "\n",
    "`ctr_aggregators`: a list of CTR-aggregators, e.g. ['event_hour', 'publisher']. The aggregators we support are 'event_hour' (hour of the day), 'publisher' (advertisement publisher), 'device' (user's device), 'os' (user's operating system). Note that the more ctr_aggregator we use the more data will be needed (i.e. given that we have the same dataset, the performance of the model will be worse.)\n",
    "\n",
    "`ontology`: a list of ontologies from where we sollect the display data, e.g. ['automobile'] means only summarize the CTR of automobile campaings. Note that if the input is an empty list, no CTR will be collected (instead of collecting CTR from all ontologies). The ontologies here directly correspond to the ontologies we specified when we load the campaign into the database.\n",
    "\n",
    "`name`: a list of campaigns from where we sollect the display data, e.g. ['alfaromeo'] means only summarize the CTR of the campaign named 'alfaromeo'. Note that if the input is an empty list, no CTR will be collected (instead of collecting CTR from all campaigns). The campaign names here directly correspond to the campaign names we specified when we the campaign into the database.\n",
    "\n",
    "`year`: a list of years from where we sollect the display data, e.g. ['2019'] means only summarize the CTR of the year 2019. Note that if the input is an empty list, no CTR will be collected (instead of collecting CTR from all years).\n",
    "\n",
    "`year`: a list of years from where we sollect the display data, e.g. ['3'] means only summarize the CTR of March. Note that if the input is an empty list, no CTR will be collected (instead of collecting CTR from all months).\n",
    "\n",
    "`min_impressions`: minimum number of impressions to be considered enough to calculate CTR, e.g. 5000.\n",
    "\n",
    "------ arguments for step (1) ------\n",
    "\n",
    "`viz_extractor`: a `FeatureExtractor` object\n",
    "\n",
    "`viz_aggregator`: a `FeatureAggregator` object\n",
    "\n",
    "------ arguments for step (3) ------\n",
    "\n",
    "`matching_rule`: a function that takes two argument, the 1st is an ad name, the 2nd is a banner name. The returned value of this function should be a boolean indicating whether these two name point to the same banner. we used `alfaromeo_specific.are_referring_same_banner` here, which is how we determine whether two name point to the same banner in the Alfa Romeo dataset.\n",
    "\n",
    "`conn`: the connection to the database\n",
    "\n",
    "A tuple of 3 elements will be returned. The first is the design matrix, which is something like this except that the categorical values (hour of the day and publisher) are one-hot encoded. This will act as the input for machine learning models:\n",
    "\n",
    "| visual feature # 1| visual feature # 2 | ... | hour of the day | publisher            |\n",
    "| ----------------- | ------------------ | --- | --------------- | -------------------- | \n",
    "| 0.3               | 13                 | ... | 8               | Criteo               |\n",
    "| 0.6               | 34                 | ... | 16              | Amazon               | \n",
    "| 0.2               | 53                 | ... | 21              | Double Click Manager | \n",
    "\n",
    "The second is the target value, the CTRs. The third is the banner names of each records which will be used later for train-test split. The banner names are needed for train-test split is that we don't want the same banner to appear in both our training set and test set."
   ]
  },
  {
   "cell_type": "code",
   "execution_count": 11,
   "metadata": {},
   "outputs": [],
   "source": [
    "from breanna import ctr_model_management\n",
    "from breanna import alfaromeo_specific"
   ]
  },
  {
   "cell_type": "markdown",
   "metadata": {},
   "source": [
    "The following block will create a training set that uses the data from the Alfa Romeo campaign, with the March 2019 data. The CTR is aggregated over the publishers, with 5000 as the minimum number of impression. We are using the visual feature extractor and aggregator we created above (the ones that extracts 8 features). We are matching the banner names and ad names with `alfaromeo_specific.are_referring_same_banner`."
   ]
  },
  {
   "cell_type": "code",
   "execution_count": 12,
   "metadata": {},
   "outputs": [
    {
     "name": "stdout",
     "output_type": "stream",
     "text": [
      "Collecting click-through rate from the database...\n",
      "Finished. 170 examples found.\n",
      "Extracting visual features from banners...\n",
      "Finished. 60 banners preprocessed.\n",
      "Matching banners...\n",
      "Finished. 147 examples matched.\n"
     ]
    }
   ],
   "source": [
    "ctr_aggregators = ['publisher']\n",
    "X_onehot, y, banner_names = ctr_model_management.create_training_set(\n",
    "    ctr_aggregators=ctr_aggregators, \n",
    "    ontology=['automobile'], name=['alfaromeo'], year=['2019'], month=['3'], \n",
    "    min_impressions=5000,\n",
    "    viz_extractor=extractor, viz_aggregator=aggregator,\n",
    "    matching_rule=alfaromeo_specific.are_referring_same_banner,\n",
    "    conn=msl_db\n",
    ")"
   ]
  },
  {
   "cell_type": "markdown",
   "metadata": {},
   "source": [
    "### 2.3. train models"
   ]
  },
  {
   "cell_type": "markdown",
   "metadata": {},
   "source": [
    "We can use a sklearn model to predict the CTR for our training set. For example, here we use a random forest:"
   ]
  },
  {
   "cell_type": "code",
   "execution_count": 13,
   "metadata": {},
   "outputs": [],
   "source": [
    "from sklearn.ensemble import RandomForestRegressor"
   ]
  },
  {
   "cell_type": "code",
   "execution_count": 14,
   "metadata": {},
   "outputs": [],
   "source": [
    "rf_regressor = RandomForestRegressor(n_estimators=100)"
   ]
  },
  {
   "cell_type": "markdown",
   "metadata": {},
   "source": [
    "We can use `ctr_model_management.evaluate_estimator` to check how this model will perform on our training set. `ctr_model_management.evaluate_estimator` takes the following arguments:\n",
    "\n",
    "`X_onehot`: the design matrix generated by `ctr_model_management.create_training_set`. (the first element in the tuple returned by `ctr_model_management.create_training_set`)\n",
    "\n",
    "`y`: the target value generated by `ctr_model_management.create_training_set`. (the second element in the tuple returned by `ctr_model_management.create_training_set`)\n",
    "\n",
    "`banner_names`: the banner names of each row in `X_onehot`. (the third element in the tuple returned by `ctr_model_management.create_training_set`)\n",
    "\n",
    "`n_splits`: the number of slits for the cross validation. The *set* of *banner names* will be splited into `n_splits` fold, and every time all the records whose banner name is in the test fold will be in the test set.\n",
    "\n",
    "`n_repeats`: number of times to repeat the cross validation."
   ]
  },
  {
   "cell_type": "code",
   "execution_count": 15,
   "metadata": {},
   "outputs": [
    {
     "name": "stdout",
     "output_type": "stream",
     "text": [
      "R^2 = 0.392(+-0.2597)\n"
     ]
    }
   ],
   "source": [
    "ctr_model_management.evaluate_estimator(X_onehot, y, banner_names, rf_regressor, n_splits=3, n_repeats=3)"
   ]
  },
  {
   "cell_type": "markdown",
   "metadata": {},
   "source": [
    "We can create a model to be used by the backend with `ctr_model_management.create_training_set`. It takes the following arguments:\n",
    "\n",
    "`X_onehot`: the design matrix generated by `ctr_model_management.create_training_set`. (the first element in the tuple returned by `ctr_model_management.create_training_set`)\n",
    "\n",
    "`y`: the target value generated by `ctr_model_management.create_training_set`. (the second element in the tuple returned by `ctr_model_management.create_training_set`)\n",
    "\n",
    "`sklearn_estimator`: an sklearn model, e.g. a RandomForestRegressor.\n",
    "\n",
    "`viz_extractor`: a `FeatureExtractor` object\n",
    "\n",
    "`ctr_aggregators`: a list of CTR-aggregators, e.g. ['event_hour', 'publisher']. The aggregators we support are 'event_hour' (hour of the day), 'publisher' (advertisement publisher), 'device' (user's device), 'os' (user's operating system). We need to pass in the same list of `ctr_aggregators` and the one we specified when we called `ctr_model_management.create_training_set`.\n",
    "\n",
    "A `CTRModel` will be returned. It may seems strange that we need to specify the `viz_extractor` and `ctr_aggregators`. This will be explained later."
   ]
  },
  {
   "cell_type": "code",
   "execution_count": 16,
   "metadata": {},
   "outputs": [
    {
     "name": "stdout",
     "output_type": "stream",
     "text": [
      "Training sklearn estimator...\n",
      "Finished.\n"
     ]
    }
   ],
   "source": [
    "ctrmodel = ctr_model_management.train_CTRModel(\n",
    "    X_onehot, y, rf_regressor,\n",
    "    viz_extractor=extractor,\n",
    "    ctr_aggregators=ctr_aggregators\n",
    ")"
   ]
  },
  {
   "cell_type": "markdown",
   "metadata": {},
   "source": [
    "A `CTRModel` has a `predict` method that takes an image as a input. The argument is:\n",
    "\n",
    "`image`: an RGB image as a numpy array.\n",
    "\n",
    "A dataframe containing the predictions will be returned. After receiving the image, the `CTRModel` will use its `FeatureExtractor` to extract the visual features. It will then create a dataframe with the exact format with the one-hot encoded design matrix we used to train the model. Some columns will be empty in this matrix (e.g. in this case, all the one-hot encoded publisher column). The `CTRModel` will then populate these columns so that we have all the possible scenarios (e.g. in this case, all the publishers presented in the training set). Lastly, it will reverse the one-hot encoding so that the result is human-readable (and more friendly to the frontend). In the process, the `CTRModel` will need to know which column's value is not provided by the image input and should be populated by itself. This is why we need to tell `ctr_model_management.train_CTRModel` the `ctr_aggregators` we are using."
   ]
  },
  {
   "cell_type": "code",
   "execution_count": 17,
   "metadata": {},
   "outputs": [
    {
     "data": {
      "text/html": [
       "<div>\n",
       "<style scoped>\n",
       "    .dataframe tbody tr th:only-of-type {\n",
       "        vertical-align: middle;\n",
       "    }\n",
       "\n",
       "    .dataframe tbody tr th {\n",
       "        vertical-align: top;\n",
       "    }\n",
       "\n",
       "    .dataframe thead th {\n",
       "        text-align: right;\n",
       "    }\n",
       "</style>\n",
       "<table border=\"1\" class=\"dataframe\">\n",
       "  <thead>\n",
       "    <tr style=\"text-align: right;\">\n",
       "      <th></th>\n",
       "      <th>publisher</th>\n",
       "      <th>ctr</th>\n",
       "    </tr>\n",
       "  </thead>\n",
       "  <tbody>\n",
       "    <tr>\n",
       "      <th>0</th>\n",
       "      <td>Amazon IT - FCA</td>\n",
       "      <td>0.001690</td>\n",
       "    </tr>\n",
       "    <tr>\n",
       "      <th>1</th>\n",
       "      <td>CRM SRL</td>\n",
       "      <td>0.001424</td>\n",
       "    </tr>\n",
       "    <tr>\n",
       "      <th>2</th>\n",
       "      <td>Cavalservice IT</td>\n",
       "      <td>0.001228</td>\n",
       "    </tr>\n",
       "    <tr>\n",
       "      <th>3</th>\n",
       "      <td>Criteo IT</td>\n",
       "      <td>0.002856</td>\n",
       "    </tr>\n",
       "    <tr>\n",
       "      <th>4</th>\n",
       "      <td>Doubleclick Bid Manager IT</td>\n",
       "      <td>0.001290</td>\n",
       "    </tr>\n",
       "    <tr>\n",
       "      <th>5</th>\n",
       "      <td>Edidomus IT</td>\n",
       "      <td>0.001619</td>\n",
       "    </tr>\n",
       "    <tr>\n",
       "      <th>6</th>\n",
       "      <td>Edimotive Srl IT</td>\n",
       "      <td>0.001774</td>\n",
       "    </tr>\n",
       "    <tr>\n",
       "      <th>7</th>\n",
       "      <td>Lion Adnet 1</td>\n",
       "      <td>0.004967</td>\n",
       "    </tr>\n",
       "    <tr>\n",
       "      <th>8</th>\n",
       "      <td>Maneki IT</td>\n",
       "      <td>0.001445</td>\n",
       "    </tr>\n",
       "    <tr>\n",
       "      <th>9</th>\n",
       "      <td>OATH_Italy</td>\n",
       "      <td>0.001366</td>\n",
       "    </tr>\n",
       "    <tr>\n",
       "      <th>10</th>\n",
       "      <td>Rocketfuel IT</td>\n",
       "      <td>0.001417</td>\n",
       "    </tr>\n",
       "    <tr>\n",
       "      <th>11</th>\n",
       "      <td>Sport Network Srl IT</td>\n",
       "      <td>0.001548</td>\n",
       "    </tr>\n",
       "    <tr>\n",
       "      <th>12</th>\n",
       "      <td>Subito.it IT</td>\n",
       "      <td>0.001207</td>\n",
       "    </tr>\n",
       "    <tr>\n",
       "      <th>13</th>\n",
       "      <td>WebAds_IT</td>\n",
       "      <td>0.001424</td>\n",
       "    </tr>\n",
       "  </tbody>\n",
       "</table>\n",
       "</div>"
      ],
      "text/plain": [
       "                     publisher       ctr\n",
       "0              Amazon IT - FCA  0.001690\n",
       "1                      CRM SRL  0.001424\n",
       "2              Cavalservice IT  0.001228\n",
       "3                    Criteo IT  0.002856\n",
       "4   Doubleclick Bid Manager IT  0.001290\n",
       "5                  Edidomus IT  0.001619\n",
       "6             Edimotive Srl IT  0.001774\n",
       "7                 Lion Adnet 1  0.004967\n",
       "8                    Maneki IT  0.001445\n",
       "9                   OATH_Italy  0.001366\n",
       "10               Rocketfuel IT  0.001417\n",
       "11        Sport Network Srl IT  0.001548\n",
       "12                Subito.it IT  0.001207\n",
       "13                   WebAds_IT  0.001424"
      ]
     },
     "execution_count": 17,
     "metadata": {},
     "output_type": "execute_result"
    }
   ],
   "source": [
    "ctrmodel.predict(test_image)"
   ]
  },
  {
   "cell_type": "markdown",
   "metadata": {},
   "source": [
    "Lastly, we can save and load this model using `ctr_model_management.save_CTRModel` and `ctr_model_management.load_CTRModel`. \n",
    "\n",
    "`ctr_model_management.save_CTRModel` takes 2 argument:\n",
    "\n",
    "`ctrmodel`: the `CTRModel` object to save\n",
    "\n",
    "`modelname`: the name of the pickle file where we will store this model\n",
    "\n",
    "`ctr_model_management.load_CTRModel` takes 1 argument:\n",
    "\n",
    "`modelname`: the name of the pickle file where we will store this model"
   ]
  },
  {
   "cell_type": "code",
   "execution_count": 18,
   "metadata": {},
   "outputs": [],
   "source": [
    "ctr_model_management.save_CTRModel(ctrmodel,  'publisher-randomforestregressor.p')\n",
    "ctrmodel = ctr_model_management.load_CTRModel('publisher-randomforestregressor.p')"
   ]
  },
  {
   "cell_type": "markdown",
   "metadata": {},
   "source": [
    "## 3. The backend"
   ]
  },
  {
   "cell_type": "markdown",
   "metadata": {},
   "source": [
    "The backend is the script `listener.py` located in the `breanna` folder. To start the backend, use the command line `FLASK_APP=[path to listener.py] flask run`. For example:"
   ]
  },
  {
   "cell_type": "code",
   "execution_count": 19,
   "metadata": {},
   "outputs": [
    {
     "name": "stdout",
     "output_type": "stream",
     "text": [
      " * Serving Flask app \"breanna.listener\"\n",
      " * Environment: production\n",
      "\u001b[31m   WARNING: Do not use the development server in a production environment.\u001b[0m\n",
      "\u001b[2m   Use a production WSGI server instead.\u001b[0m\n",
      " * Debug mode: off\n",
      "/anaconda3/envs/msl/lib/python3.6/site-packages/dask/config.py:168: YAMLLoadWarning: calling yaml.load() without Loader=... is deprecated, as the default Loader is unsafe. Please read https://msg.pyyaml.org/load for full details.\n",
      "  data = yaml.load(f.read()) or {}\n",
      "Using TensorFlow backend.\n",
      " * Running on http://127.0.0.1:5000/ (Press CTRL+C to quit)\n",
      "^C\n"
     ]
    }
   ],
   "source": [
    "!FLASK_APP=breanna.listener flask run"
   ]
  },
  {
   "cell_type": "markdown",
   "metadata": {},
   "source": [
    "The backend will listen for request to  http://127.0.0.1:5000/. The query url should be like http://127.0.0.1:5000/predict-ctr?aggregator=publisher&aggregator=time&path2banner=breanna_test/test_data/frame1.jpg. Where the the parameter `aggregator` specifies what click-through rate aggregators to use. Here we support 3 aggregators: 'publisher', 'time' and 'device'. Multiple aggregators can be specified. The url will return a JSON where each object in the list is a CTR prediction."
   ]
  },
  {
   "cell_type": "markdown",
   "metadata": {},
   "source": [
    "The mapping from aggregator combination to the model is specified as a dictionary inside breanna.listener. The name of the model correspond to the name of the pickle file of the CTRModel. If we want to serve a new model for a new combination of aggregators, we can just add a new entry to the dictionary."
   ]
  },
  {
   "cell_type": "markdown",
   "metadata": {},
   "source": [
    "## 4. Conclusion\n",
    "\n",
    "Breanna will help data scientists manage campaign data and building models to predict click-through rate. It is by no means complete. For example, we only extract limited information from the standard display feeds of the web logs, while there are other valuable information in those logs too (e.g. conversion data). Breanna also impose some restriction on the click-through rate models (e.g. can only use one-hot encoding for categorical values, can only use scikit-learn model, limited number of visual features to extract). What we want to say by creating Breanna is that, given the nature of the problem (need to analyze multiple campaigns, each with multiple data source), it would be important to have an infrastructure to mange these data and make it possible for easier experiment on modeling. We believe with more future data, we can have better prediction of click-through rate, and predictions on more deep conversion rate will be possible."
   ]
  }
 ],
 "metadata": {
  "kernelspec": {
   "display_name": "Python 3",
   "language": "python",
   "name": "python3"
  },
  "language_info": {
   "codemirror_mode": {
    "name": "ipython",
    "version": 3
   },
   "file_extension": ".py",
   "mimetype": "text/x-python",
   "name": "python",
   "nbconvert_exporter": "python",
   "pygments_lexer": "ipython3",
   "version": "3.6.8"
  }
 },
 "nbformat": 4,
 "nbformat_minor": 2
}
